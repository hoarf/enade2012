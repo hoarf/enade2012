{
 "metadata": {
  "name": "",
  "signature": "sha256:3edfe956d0eb0c412802a5c623224dd302477f61d4df808e50fe42d0e9c6740d"
 },
 "nbformat": 3,
 "nbformat_minor": 0,
 "worksheets": [
  {
   "cells": [
    {
     "cell_type": "markdown",
     "metadata": {},
     "source": [
      "# An\u00e1lise dos dados do ENADE 2012"
     ]
    },
    {
     "cell_type": "code",
     "collapsed": true,
     "input": [
      "%pylab inline\n",
      "from matplotlib import pyplot as plt\n",
      "import numpy as np\n",
      "import pandas as pd"
     ],
     "language": "python",
     "metadata": {},
     "outputs": [
      {
       "output_type": "stream",
       "stream": "stdout",
       "text": [
        "Populating the interactive namespace from numpy and matplotlib\n"
       ]
      }
     ],
     "prompt_number": 209
    },
    {
     "cell_type": "markdown",
     "metadata": {},
     "source": [
      "###LEITURA OS DADOS"
     ]
    },
    {
     "cell_type": "code",
     "collapsed": false,
     "input": [
      "#significant columns ignored due to not having any examples in the dataset: status\n",
      "USED_COLUMNS = ['nu_idade', 'nt_ger','tp_sexo','in_vesper','in_noturno','tp_def_vis','tp_def_aud',\n",
      "                'tp_def_fis','tp_pres','tp_pr_ger','tp_sit_qip',                \n",
      "                ]\n",
      "for i in xrange(1,22):\n",
      "    USED_COLUMNS.append('co_rs_s'+str(i))"
     ],
     "language": "python",
     "metadata": {},
     "outputs": [],
     "prompt_number": 210
    },
    {
     "cell_type": "code",
     "collapsed": false,
     "input": [
      "def read_csv(file_name):\n",
      "    return pd.read_csv(file_name, sep=';',na_values=['.'], encoding='iso8859', usecols = USED_COLUMNS)"
     ],
     "language": "python",
     "metadata": {},
     "outputs": [],
     "prompt_number": 211
    },
    {
     "cell_type": "code",
     "collapsed": false,
     "input": [
      "data = read_csv('enade_2012.csv')"
     ],
     "language": "python",
     "metadata": {},
     "outputs": [],
     "prompt_number": 212
    },
    {
     "cell_type": "code",
     "collapsed": false,
     "input": [
      "data.shape"
     ],
     "language": "python",
     "metadata": {},
     "outputs": [
      {
       "metadata": {},
       "output_type": "pyout",
       "prompt_number": 213,
       "text": [
        "(587351, 32)"
       ]
      }
     ],
     "prompt_number": 213
    },
    {
     "cell_type": "markdown",
     "metadata": {},
     "source": [
      "###DESCONSIDERA DEFICIENTES F\u00cdSICOS"
     ]
    },
    {
     "cell_type": "code",
     "collapsed": false,
     "input": [
      "data = data[data.tp_def_fis == 0]\n",
      "data.shape"
     ],
     "language": "python",
     "metadata": {},
     "outputs": [
      {
       "metadata": {},
       "output_type": "pyout",
       "prompt_number": 214,
       "text": [
        "(586435, 32)"
       ]
      }
     ],
     "prompt_number": 214
    },
    {
     "cell_type": "markdown",
     "metadata": {},
     "source": [
      "###DESCONSIDERA DEFICIENTES VISUAIS"
     ]
    },
    {
     "cell_type": "code",
     "collapsed": false,
     "input": [
      "data = data[data.tp_def_vis == 0]\n",
      "data.shape"
     ],
     "language": "python",
     "metadata": {},
     "outputs": [
      {
       "metadata": {},
       "output_type": "pyout",
       "prompt_number": 215,
       "text": [
        "(586222, 32)"
       ]
      }
     ],
     "prompt_number": 215
    },
    {
     "cell_type": "markdown",
     "metadata": {},
     "source": [
      "###DESCONSIDERA DEFICIENTES AUDITIVOS"
     ]
    },
    {
     "cell_type": "code",
     "collapsed": false,
     "input": [
      "data[data.tp_def_aud == 0].shape"
     ],
     "language": "python",
     "metadata": {},
     "outputs": [
      {
       "metadata": {},
       "output_type": "pyout",
       "prompt_number": 216,
       "text": [
        "(585975, 32)"
       ]
      }
     ],
     "prompt_number": 216
    },
    {
     "cell_type": "markdown",
     "metadata": {},
     "source": [
      "###DESCONSIDERA ALUNOS EM SITUA\u00c7\u00c2O IRREGULAR (AUSENTES) OU QUE N\u00c3O RESPONDERAM O QUESTION\u00c1RIO S\u00d3CIOECON\u00d4MICO"
     ]
    },
    {
     "cell_type": "code",
     "collapsed": false,
     "input": [
      "data = data[data.tp_pres == 555]\n",
      "data = data[data.tp_pr_ger == 555]\n",
      "data = data[data.tp_sit_qip == 1]\n",
      "\n",
      "del data['tp_pres']\n",
      "del data['tp_pr_ger']\n",
      "del data['tp_sit_qip']\n",
      "\n",
      "sample_index = np.random.choice(data.index.values, 40000)\n",
      "data = data.ix[sample_index]\n",
      "data.shape"
     ],
     "language": "python",
     "metadata": {},
     "outputs": [
      {
       "metadata": {},
       "output_type": "pyout",
       "prompt_number": 217,
       "text": [
        "(40000, 29)"
       ]
      }
     ],
     "prompt_number": 217
    },
    {
     "cell_type": "markdown",
     "metadata": {},
     "source": [
      "###DESEMPENHO POR G\u00caNERO"
     ]
    },
    {
     "cell_type": "code",
     "collapsed": false,
     "input": [
      "data.groupby('tp_sexo').nt_ger.mean().plot(kind='bar',color='g')"
     ],
     "language": "python",
     "metadata": {},
     "outputs": [
      {
       "metadata": {},
       "output_type": "pyout",
       "prompt_number": 218,
       "text": [
        "<matplotlib.axes.AxesSubplot at 0x7f95abe1f350>"
       ]
      },
      {
       "metadata": {},
       "output_type": "display_data",
       "png": "[encoded data removed]",
       "text": [
        "<matplotlib.figure.Figure at 0x7f95abe37510>"
       ]
      }
     ],
     "prompt_number": 218
    },
    {
     "cell_type": "markdown",
     "metadata": {},
     "source": [
      "###DESEMPENHO POR IDADE"
     ]
    },
    {
     "cell_type": "code",
     "collapsed": false,
     "input": [
      "data.groupby('nu_idade').nt_ger.mean().plot(kind='area', color='y')"
     ],
     "language": "python",
     "metadata": {},
     "outputs": [
      {
       "metadata": {},
       "output_type": "pyout",
       "prompt_number": 219,
       "text": [
        "<matplotlib.axes.AxesSubplot at 0x7f95abd97b50>"
       ]
      },
      {
       "metadata": {},
       "output_type": "display_data",
       "png": "[encoded data removed]",
       "text": [
        "<matplotlib.figure.Figure at 0x7f95abf066d0>"
       ]
      }
     ],
     "prompt_number": 219
    },
    {
     "cell_type": "code",
     "collapsed": false,
     "input": [
      "data.nt_ger.corr(data.nu_idade)"
     ],
     "language": "python",
     "metadata": {},
     "outputs": [
      {
       "metadata": {},
       "output_type": "pyout",
       "prompt_number": 220,
       "text": [
        "-0.02508465862260886"
       ]
      }
     ],
     "prompt_number": 220
    },
    {
     "cell_type": "markdown",
     "metadata": {},
     "source": [
      "###DESEMPENHO POR RENDA\n",
      "\n",
      "A = Nenhuma. \n",
      "\n",
      "B = At\u00e9 1,5 sal\u00e1rio m\u00ednimo (at\u00e9 R$ 697,50) \n",
      "\n",
      "C = Acima de 1,5 at\u00e9 3 sal\u00e1rios m\u00ednimos (R$ 697,51 a R$ 1.395,00).\n",
      "\n",
      "D = Acima de 3 at\u00e9 4,5 sal\u00e1rios m\u00ednimos (R$ 1.395,01 a R$ 2.092,50).\n",
      "\n",
      "E = Acima de 4,5 at\u00e9 6 sal\u00e1rios m\u00ednimos (R$ 2.092,51 a R$ 2.790,00).\n",
      "\n",
      "F = Acima de 6 at\u00e9 10 sal\u00e1rios m\u00ednimos  (R$ 2.790,01 a R$ 4.650,00).\n",
      "\n",
      "G = Acima de 10 at\u00e9 30 sal\u00e1rios m\u00ednimos (R$ 4.650,01 a R$ 13.950,00).\n",
      "\n",
      "H = Acima de 30 sal\u00e1rios m\u00ednimos (mais de R$ 13.950,01). "
     ]
    },
    {
     "cell_type": "code",
     "collapsed": false,
     "input": [
      "data.groupby('co_rs_s5').nt_ger.mean().plot(kind='bar')"
     ],
     "language": "python",
     "metadata": {},
     "outputs": [
      {
       "metadata": {},
       "output_type": "pyout",
       "prompt_number": 221,
       "text": [
        "<matplotlib.axes.AxesSubplot at 0x7f95abc9c250>"
       ]
      },
      {
       "metadata": {},
       "output_type": "display_data",
       "png": "[encoded data removed]",
       "text": [
        "<matplotlib.figure.Figure at 0x7f95abc94ed0>"
       ]
      }
     ],
     "prompt_number": 221
    },
    {
     "cell_type": "markdown",
     "metadata": {},
     "source": [
      "###DESEMPENHO POR ESFOR\u00c7O\n",
      "\n",
      "Quantas horas por semana, aproximadamente, voc\u00ea dedica aos estudos, excetuando as horas de aula?\n",
      "\n",
      "A = Nenhuma, apenas assisto \u00e0s aulas. \n",
      "\n",
      "B = Uma a tr\u00eas. \n",
      "\n",
      "C = Quatro a sete. \n",
      "\n",
      "D = Oito a doze. \n",
      "\n",
      "E = Mais de doze."
     ]
    },
    {
     "cell_type": "code",
     "collapsed": false,
     "input": [
      "data.groupby('co_rs_s20').nt_ger.mean().plot(kind='bar', color='r')"
     ],
     "language": "python",
     "metadata": {},
     "outputs": [
      {
       "metadata": {},
       "output_type": "pyout",
       "prompt_number": 222,
       "text": [
        "<matplotlib.axes.AxesSubplot at 0x7f95abd1c450>"
       ]
      },
      {
       "metadata": {},
       "output_type": "display_data",
       "png": "[encoded data removed]",
       "text": [
        "<matplotlib.figure.Figure at 0x7f95abd25f10>"
       ]
      }
     ],
     "prompt_number": 222
    },
    {
     "cell_type": "markdown",
     "metadata": {},
     "source": [
      "###DESEMPENHO POR TURNO DE ESTUDO\n",
      "\n",
      "1 = Estuda durante o dia\n",
      "\n",
      "0 = Estuda durante a noite"
     ]
    },
    {
     "cell_type": "code",
     "collapsed": false,
     "input": [
      "data.groupby('in_vesper').nt_ger.mean().plot(kind='bar', color='k')"
     ],
     "language": "python",
     "metadata": {},
     "outputs": [
      {
       "metadata": {},
       "output_type": "pyout",
       "prompt_number": 223,
       "text": [
        "<matplotlib.axes.AxesSubplot at 0x7f95abaebad0>"
       ]
      },
      {
       "metadata": {},
       "output_type": "display_data",
       "png": "[encoded data removed]",
       "text": [
        "<matplotlib.figure.Figure at 0x7f95abaf5090>"
       ]
      }
     ],
     "prompt_number": 223
    },
    {
     "cell_type": "markdown",
     "metadata": {},
     "source": [
      "###DESEMPENHO POR OCUPA\u00c7\u00c3O\n",
      "\n",
      "A = N\u00e3o estou trabalhando.\n",
      "\n",
      "B = Trabalho eventualmente. \n",
      "\n",
      "C = Trabalho at\u00e9 20 horas semanais. \n",
      "\n",
      "D = Trabalho mais de 20 horas semanais e menos de 40 horas \n",
      "semanais. \n",
      "\n",
      "E = Trabalho em tempo integral - 40 horas semanais ou mais. "
     ]
    },
    {
     "cell_type": "code",
     "collapsed": false,
     "input": [
      "data.groupby('co_rs_s7').nt_ger.mean().plot(kind='bar', color='b')"
     ],
     "language": "python",
     "metadata": {},
     "outputs": [
      {
       "metadata": {},
       "output_type": "pyout",
       "prompt_number": 224,
       "text": [
        "<matplotlib.axes.AxesSubplot at 0x7f95aba2e350>"
       ]
      },
      {
       "metadata": {},
       "output_type": "display_data",
       "png": "[encoded data removed]",
       "text": [
        "<matplotlib.figure.Figure at 0x7f95abd25c10>"
       ]
      }
     ],
     "prompt_number": 224
    },
    {
     "cell_type": "markdown",
     "metadata": {},
     "source": [
      "###EXPORTA\u00c7\u00c2O DOS DADOS\n",
      "\n",
      "Se quiser exportar estes dados para o weka descomente esta \u00faltima linha"
     ]
    },
    {
     "cell_type": "code",
     "collapsed": false,
     "input": [
      "# data.to_csv('out2.csv',na_rep='?',index=False)"
     ],
     "language": "python",
     "metadata": {},
     "outputs": [],
     "prompt_number": 225
    }
   ],
   "metadata": {}
  }
 ]
}